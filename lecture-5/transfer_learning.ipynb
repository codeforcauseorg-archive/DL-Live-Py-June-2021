{
  "nbformat": 4,
  "nbformat_minor": 0,
  "metadata": {
    "colab": {
      "name": "transfer learning",
      "provenance": [],
      "collapsed_sections": []
    },
    "kernelspec": {
      "name": "python3",
      "display_name": "Python 3"
    },
    "language_info": {
      "name": "python"
    },
    "accelerator": "GPU"
  },
  "cells": [
    {
      "cell_type": "code",
      "metadata": {
        "id": "kt5UQXoCUQfn"
      },
      "source": [
        "from tensorflow.keras.applications.resnet50 import ResNet50"
      ],
      "execution_count": 1,
      "outputs": []
    },
    {
      "cell_type": "code",
      "metadata": {
        "id": "RWmPI0BgVOwB"
      },
      "source": [
        "res = ResNet50(include_top=False, input_shape=(256, 256, 3), pooling=\"avg\")"
      ],
      "execution_count": 94,
      "outputs": []
    },
    {
      "cell_type": "code",
      "metadata": {
        "id": "u54sRdJ2VeYj"
      },
      "source": [
        "# res.summary()"
      ],
      "execution_count": 95,
      "outputs": []
    },
    {
      "cell_type": "code",
      "metadata": {
        "colab": {
          "base_uri": "https://localhost:8080/"
        },
        "id": "16nNNAIRV8Zb",
        "outputId": "d23186a5-8ed7-4cde-9631-200b697d0044"
      },
      "source": [
        "! kaggle"
      ],
      "execution_count": 96,
      "outputs": [
        {
          "output_type": "stream",
          "text": [
            "usage: kaggle [-h] [-v] {competitions,c,datasets,d,kernels,k,config} ...\n",
            "kaggle: error: too few arguments\n"
          ],
          "name": "stdout"
        }
      ]
    },
    {
      "cell_type": "code",
      "metadata": {
        "id": "hnLWxn_9WQhp"
      },
      "source": [
        "! mv kaggle.json /root/.kaggle/kaggle.json"
      ],
      "execution_count": 6,
      "outputs": []
    },
    {
      "cell_type": "code",
      "metadata": {
        "colab": {
          "base_uri": "https://localhost:8080/"
        },
        "id": "7BXASUY0Wa-C",
        "outputId": "21e633a3-1ed3-429a-a109-3fab6cf02629"
      },
      "source": [
        "! kaggle"
      ],
      "execution_count": 7,
      "outputs": [
        {
          "output_type": "stream",
          "text": [
            "Warning: Your Kaggle API key is readable by other users on this system! To fix this, you can run 'chmod 600 /root/.kaggle/kaggle.json'\n",
            "usage: kaggle [-h] [-v] {competitions,c,datasets,d,kernels,k,config} ...\n",
            "kaggle: error: too few arguments\n"
          ],
          "name": "stdout"
        }
      ]
    },
    {
      "cell_type": "code",
      "metadata": {
        "id": "uVLF3Gr7WdAZ"
      },
      "source": [
        "! chmod 600 /root/.kaggle/kaggle.json"
      ],
      "execution_count": 8,
      "outputs": []
    },
    {
      "cell_type": "code",
      "metadata": {
        "colab": {
          "base_uri": "https://localhost:8080/"
        },
        "id": "4RE4Ai-bWhAt",
        "outputId": "e8460786-b5c1-41f4-d016-6d5b422ee4de"
      },
      "source": [
        "! kaggle datasets download ellenyusa/4classimages"
      ],
      "execution_count": 9,
      "outputs": [
        {
          "output_type": "stream",
          "text": [
            "Downloading 4classimages.zip to /content\n",
            "100% 38.5M/38.5M [00:01<00:00, 23.8MB/s]\n",
            "\n"
          ],
          "name": "stdout"
        }
      ]
    },
    {
      "cell_type": "code",
      "metadata": {
        "id": "igeG_DjFWrZI"
      },
      "source": [
        "! unzip --qq 4classimages.zip"
      ],
      "execution_count": 10,
      "outputs": []
    },
    {
      "cell_type": "code",
      "metadata": {
        "id": "Xd3R9IBvWyef"
      },
      "source": [
        "! rm -rf ./data/data"
      ],
      "execution_count": 11,
      "outputs": []
    },
    {
      "cell_type": "code",
      "metadata": {
        "id": "eHEUZRWEW7ks"
      },
      "source": [
        "from tensorflow.keras.preprocessing.image import ImageDataGenerator"
      ],
      "execution_count": 97,
      "outputs": []
    },
    {
      "cell_type": "code",
      "metadata": {
        "id": "9trX9DkeYGr9"
      },
      "source": [
        "dg = ImageDataGenerator()"
      ],
      "execution_count": 98,
      "outputs": []
    },
    {
      "cell_type": "code",
      "metadata": {
        "colab": {
          "base_uri": "https://localhost:8080/"
        },
        "id": "a6-WMcX5YTdm",
        "outputId": "c4df2cfd-9743-42e2-f0c0-d8210719a8a4"
      },
      "source": [
        "ffd = dg.flow_from_directory(\"./data\", target_size=(256, 256), batch_size=50)"
      ],
      "execution_count": 113,
      "outputs": [
        {
          "output_type": "stream",
          "text": [
            "Found 808 images belonging to 4 classes.\n"
          ],
          "name": "stdout"
        }
      ]
    },
    {
      "cell_type": "code",
      "metadata": {
        "id": "JmGQV2jFYfWX"
      },
      "source": [
        "X, y = ffd.next()"
      ],
      "execution_count": 114,
      "outputs": []
    },
    {
      "cell_type": "code",
      "metadata": {
        "colab": {
          "base_uri": "https://localhost:8080/"
        },
        "id": "jsg1qLH7YnBq",
        "outputId": "25f97846-6ef6-453d-d936-d5dbaa6df9ae"
      },
      "source": [
        "X.shape"
      ],
      "execution_count": 115,
      "outputs": [
        {
          "output_type": "execute_result",
          "data": {
            "text/plain": [
              "(50, 256, 256, 3)"
            ]
          },
          "metadata": {
            "tags": []
          },
          "execution_count": 115
        }
      ]
    },
    {
      "cell_type": "code",
      "metadata": {
        "id": "WDTuP1CMYn0O"
      },
      "source": [
        "import matplotlib.pyplot as plt"
      ],
      "execution_count": 116,
      "outputs": []
    },
    {
      "cell_type": "code",
      "metadata": {
        "colab": {
          "base_uri": "https://localhost:8080/",
          "height": 286
        },
        "id": "aqDjGAbyYt0Y",
        "outputId": "f8f2b931-02ea-4dd5-ff38-4fe5bafd4374"
      },
      "source": [
        "plt.imshow(X[10].astype(int))"
      ],
      "execution_count": 117,
      "outputs": [
        {
          "output_type": "execute_result",
          "data": {
            "text/plain": [
              "<matplotlib.image.AxesImage at 0x7fca1ad48650>"
            ]
          },
          "metadata": {
            "tags": []
          },
          "execution_count": 117
        },
        {
          "output_type": "display_data",
          "data": {
            "image/png": "[encoded data removed]",
            "text/plain": [
              "<Figure size 432x288 with 1 Axes>"
            ]
          },
          "metadata": {
            "tags": [],
            "needs_background": "light"
          }
        }
      ]
    },
    {
      "cell_type": "code",
      "metadata": {
        "colab": {
          "base_uri": "https://localhost:8080/"
        },
        "id": "b_fzmUXAYxMl",
        "outputId": "06bdda9a-08c5-4451-ed56-81bbf60982f1"
      },
      "source": [
        "y[10]"
      ],
      "execution_count": 118,
      "outputs": [
        {
          "output_type": "execute_result",
          "data": {
            "text/plain": [
              "array([0., 1., 0., 0.], dtype=float32)"
            ]
          },
          "metadata": {
            "tags": []
          },
          "execution_count": 118
        }
      ]
    },
    {
      "cell_type": "code",
      "metadata": {
        "colab": {
          "base_uri": "https://localhost:8080/"
        },
        "id": "OsO2ZCxjY50C",
        "outputId": "a365167d-d3e1-4630-e23c-226d1c9c7af1"
      },
      "source": [
        "ffd.class_indices"
      ],
      "execution_count": 119,
      "outputs": [
        {
          "output_type": "execute_result",
          "data": {
            "text/plain": [
              "{'Humans': 0, 'cats': 1, 'dogs': 2, 'horses': 3}"
            ]
          },
          "metadata": {
            "tags": []
          },
          "execution_count": 119
        }
      ]
    },
    {
      "cell_type": "code",
      "metadata": {
        "id": "sPnqmykrY_o9"
      },
      "source": [
        "from tensorflow.keras.models import Sequential\n",
        "from tensorflow.keras.layers import InputLayer, Dense, Reshape, Flatten\n",
        "from tensorflow.keras.losses import categorical_crossentropy"
      ],
      "execution_count": 120,
      "outputs": []
    },
    {
      "cell_type": "code",
      "metadata": {
        "id": "q3hrJlmqZcnQ"
      },
      "source": [
        "model = Sequential()\n",
        "model.add(InputLayer(input_shape=(256, 256, 3)))\n",
        "model.add(res)\n",
        "model.add(Dense(400, activation=\"tanh\"))\n",
        "model.add(Dense(200, activation=\"tanh\"))\n",
        "model.add(Dense(100, activation=\"tanh\"))\n",
        "model.add(Dense(4, activation=\"softmax\"))"
      ],
      "execution_count": 121,
      "outputs": []
    },
    {
      "cell_type": "code",
      "metadata": {
        "id": "2-a2OAOfZpzL"
      },
      "source": [
        "model.compile(optimizer=\"adam\", loss=\"categorical_crossentropy\", metrics=[\"accuracy\"])"
      ],
      "execution_count": 122,
      "outputs": []
    },
    {
      "cell_type": "code",
      "metadata": {
        "colab": {
          "base_uri": "https://localhost:8080/"
        },
        "id": "sj7ZAtG8ZxvU",
        "outputId": "0043f552-1a91-4f49-be8c-926fbd3703cd"
      },
      "source": [
        "model.summary()"
      ],
      "execution_count": 123,
      "outputs": [
        {
          "output_type": "stream",
          "text": [
            "Model: \"sequential_4\"\n",
            "_________________________________________________________________\n",
            "Layer (type)                 Output Shape              Param #   \n",
            "=================================================================\n",
            "resnet50 (Functional)        (None, 2048)              23587712  \n",
            "_________________________________________________________________\n",
            "dense_16 (Dense)             (None, 400)               819600    \n",
            "_________________________________________________________________\n",
            "dense_17 (Dense)             (None, 200)               80200     \n",
            "_________________________________________________________________\n",
            "dense_18 (Dense)             (None, 100)               20100     \n",
            "_________________________________________________________________\n",
            "dense_19 (Dense)             (None, 4)                 404       \n",
            "=================================================================\n",
            "Total params: 24,508,016\n",
            "Trainable params: 920,304\n",
            "Non-trainable params: 23,587,712\n",
            "_________________________________________________________________\n"
          ],
          "name": "stdout"
        }
      ]
    },
    {
      "cell_type": "code",
      "metadata": {
        "id": "RfX04J6pZ01v"
      },
      "source": [
        "res.trainable = False"
      ],
      "execution_count": 124,
      "outputs": []
    },
    {
      "cell_type": "code",
      "metadata": {
        "colab": {
          "base_uri": "https://localhost:8080/"
        },
        "id": "EyeBzEDrZ6qi",
        "outputId": "089d676d-708b-4440-9cca-30afe988b05c"
      },
      "source": [
        "model.summary()"
      ],
      "execution_count": 125,
      "outputs": [
        {
          "output_type": "stream",
          "text": [
            "Model: \"sequential_4\"\n",
            "_________________________________________________________________\n",
            "Layer (type)                 Output Shape              Param #   \n",
            "=================================================================\n",
            "resnet50 (Functional)        (None, 2048)              23587712  \n",
            "_________________________________________________________________\n",
            "dense_16 (Dense)             (None, 400)               819600    \n",
            "_________________________________________________________________\n",
            "dense_17 (Dense)             (None, 200)               80200     \n",
            "_________________________________________________________________\n",
            "dense_18 (Dense)             (None, 100)               20100     \n",
            "_________________________________________________________________\n",
            "dense_19 (Dense)             (None, 4)                 404       \n",
            "=================================================================\n",
            "Total params: 24,508,016\n",
            "Trainable params: 920,304\n",
            "Non-trainable params: 23,587,712\n",
            "_________________________________________________________________\n"
          ],
          "name": "stdout"
        }
      ]
    },
    {
      "cell_type": "code",
      "metadata": {
        "colab": {
          "base_uri": "https://localhost:8080/"
        },
        "id": "oJPeorftZ8BD",
        "outputId": "b232f1ff-c51d-40af-aba7-38ce1793ca8c"
      },
      "source": [
        "model.fit_generator(ffd, epochs=10, steps_per_epoch=5)"
      ],
      "execution_count": 126,
      "outputs": [
        {
          "output_type": "stream",
          "text": [
            "/usr/local/lib/python3.7/dist-packages/tensorflow/python/keras/engine/training.py:1940: UserWarning: `Model.fit_generator` is deprecated and will be removed in a future version. Please use `Model.fit`, which supports generators.\n",
            "  warnings.warn('`Model.fit_generator` is deprecated and '\n"
          ],
          "name": "stderr"
        },
        {
          "output_type": "stream",
          "text": [
            "Epoch 1/10\n",
            "5/5 [==============================] - 8s 455ms/step - loss: 1.6567 - accuracy: 0.4160\n",
            "Epoch 2/10\n",
            "5/5 [==============================] - 2s 384ms/step - loss: 0.6205 - accuracy: 0.7500\n",
            "Epoch 3/10\n",
            "5/5 [==============================] - 2s 476ms/step - loss: 0.3777 - accuracy: 0.8606\n",
            "Epoch 4/10\n",
            "5/5 [==============================] - 2s 455ms/step - loss: 0.2512 - accuracy: 0.9040\n",
            "Epoch 5/10\n",
            "5/5 [==============================] - 2s 380ms/step - loss: 0.1326 - accuracy: 0.9567\n",
            "Epoch 6/10\n",
            "5/5 [==============================] - 2s 453ms/step - loss: 0.1631 - accuracy: 0.9400\n",
            "Epoch 7/10\n",
            "5/5 [==============================] - 2s 450ms/step - loss: 0.1088 - accuracy: 0.9520\n",
            "Epoch 8/10\n",
            "5/5 [==============================] - 2s 370ms/step - loss: 0.1555 - accuracy: 0.9471\n",
            "Epoch 9/10\n",
            "5/5 [==============================] - 2s 452ms/step - loss: 0.0669 - accuracy: 0.9760\n",
            "Epoch 10/10\n",
            "5/5 [==============================] - 2s 450ms/step - loss: 0.0412 - accuracy: 0.9920\n"
          ],
          "name": "stdout"
        },
        {
          "output_type": "execute_result",
          "data": {
            "text/plain": [
              "<tensorflow.python.keras.callbacks.History at 0x7fca1ab57490>"
            ]
          },
          "metadata": {
            "tags": []
          },
          "execution_count": 126
        }
      ]
    },
    {
      "cell_type": "code",
      "metadata": {
        "id": "LsHFbqasaL15"
      },
      "source": [
        "import requests"
      ],
      "execution_count": 189,
      "outputs": []
    },
    {
      "cell_type": "code",
      "metadata": {
        "id": "8FArOkRIbgLT"
      },
      "source": [
        "url = \"https://avatars.githubusercontent.com/u/25343183\""
      ],
      "execution_count": 192,
      "outputs": []
    },
    {
      "cell_type": "code",
      "metadata": {
        "id": "3IrESiQ7boNc"
      },
      "source": [
        "content = requests.get(url).content"
      ],
      "execution_count": 193,
      "outputs": []
    },
    {
      "cell_type": "code",
      "metadata": {
        "id": "R2lRN04jbrq5"
      },
      "source": [
        "with open(\"item.jpg\", \"wb\") as f:\n",
        "  f.write(content)"
      ],
      "execution_count": 194,
      "outputs": []
    },
    {
      "cell_type": "code",
      "metadata": {
        "id": "JTbqVq_xbyX1"
      },
      "source": [
        "from tensorflow.keras.preprocessing.image import load_img\n",
        "import numpy as np\n"
      ],
      "execution_count": 195,
      "outputs": []
    },
    {
      "cell_type": "code",
      "metadata": {
        "id": "96xnKu4rb5Y0"
      },
      "source": [
        "img = load_img(\"item.jpg\", target_size=(256, 256))"
      ],
      "execution_count": 196,
      "outputs": []
    },
    {
      "cell_type": "code",
      "metadata": {
        "colab": {
          "base_uri": "https://localhost:8080/"
        },
        "id": "UrL_ApUhb-Pc",
        "outputId": "45931d7a-8a2b-4d56-ddb8-16677649ce64"
      },
      "source": [
        "type(img)"
      ],
      "execution_count": 197,
      "outputs": [
        {
          "output_type": "execute_result",
          "data": {
            "text/plain": [
              "PIL.Image.Image"
            ]
          },
          "metadata": {
            "tags": []
          },
          "execution_count": 197
        }
      ]
    },
    {
      "cell_type": "code",
      "metadata": {
        "id": "U8Jfd7OecC6D"
      },
      "source": [
        "arr = np.array(img)"
      ],
      "execution_count": 198,
      "outputs": []
    },
    {
      "cell_type": "code",
      "metadata": {
        "colab": {
          "base_uri": "https://localhost:8080/"
        },
        "id": "WwNDBM4_cIbT",
        "outputId": "f9c41bff-b789-4471-a91e-9a6699800493"
      },
      "source": [
        "arr.shape"
      ],
      "execution_count": 199,
      "outputs": [
        {
          "output_type": "execute_result",
          "data": {
            "text/plain": [
              "(256, 256, 3)"
            ]
          },
          "metadata": {
            "tags": []
          },
          "execution_count": 199
        }
      ]
    },
    {
      "cell_type": "code",
      "metadata": {
        "id": "A6KOJ-6acOTo"
      },
      "source": [
        "output = model.predict(np.array([arr]))"
      ],
      "execution_count": 200,
      "outputs": []
    },
    {
      "cell_type": "code",
      "metadata": {
        "colab": {
          "base_uri": "https://localhost:8080/"
        },
        "id": "ykYn6x1xd03S",
        "outputId": "f9538ebc-48a6-4bf1-8140-9e06ae3093b1"
      },
      "source": [
        "np.argmax(output, axis=1)"
      ],
      "execution_count": 201,
      "outputs": [
        {
          "output_type": "execute_result",
          "data": {
            "text/plain": [
              "array([0])"
            ]
          },
          "metadata": {
            "tags": []
          },
          "execution_count": 201
        }
      ]
    },
    {
      "cell_type": "code",
      "metadata": {
        "colab": {
          "base_uri": "https://localhost:8080/"
        },
        "id": "sZl60wgqcVwV",
        "outputId": "e0afb908-3f29-4c8a-e065-7ac3b1c7db94"
      },
      "source": [
        "ffd.class_indices"
      ],
      "execution_count": 202,
      "outputs": [
        {
          "output_type": "execute_result",
          "data": {
            "text/plain": [
              "{'Humans': 0, 'cats': 1, 'dogs': 2, 'horses': 3}"
            ]
          },
          "metadata": {
            "tags": []
          },
          "execution_count": 202
        }
      ]
    },
    {
      "cell_type": "code",
      "metadata": {
        "id": "PDG3ISP8cdts"
      },
      "source": [
        ""
      ],
      "execution_count": 202,
      "outputs": []
    }
  ]
}