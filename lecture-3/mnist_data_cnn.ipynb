{
  "nbformat": 4,
  "nbformat_minor": 0,
  "metadata": {
    "colab": {
      "name": " mnist data cnn.ipynb",
      "provenance": [],
      "collapsed_sections": []
    },
    "kernelspec": {
      "name": "python3",
      "display_name": "Python 3"
    },
    "language_info": {
      "name": "python"
    },
    "accelerator": "GPU"
  },
  "cells": [
    {
      "cell_type": "code",
      "metadata": {
        "id": "faMWzuFenErX"
      },
      "source": [
        "from tensorflow.keras.datasets import mnist"
      ],
      "execution_count": null,
      "outputs": []
    },
    {
      "cell_type": "code",
      "metadata": {
        "id": "80tdaJM8nSt5",
        "colab": {
          "base_uri": "https://localhost:8080/"
        },
        "outputId": "3b17f46d-6a7c-4f14-b81c-38eb3aa20fac"
      },
      "source": [
        "(X_train, y_train), (X_test, y_test) = mnist.load_data()"
      ],
      "execution_count": null,
      "outputs": [
        {
          "output_type": "stream",
          "text": [
            "Downloading data from https://storage.googleapis.com/tensorflow/tf-keras-datasets/mnist.npz\n",
            "11493376/11490434 [==============================] - 0s 0us/step\n"
          ],
          "name": "stdout"
        }
      ]
    },
    {
      "cell_type": "code",
      "metadata": {
        "colab": {
          "base_uri": "https://localhost:8080/"
        },
        "id": "SGPFJdJHnrS1",
        "outputId": "dddbd65e-ffa2-4452-cafc-fc53ee0b7c11"
      },
      "source": [
        "X_train.shape"
      ],
      "execution_count": null,
      "outputs": [
        {
          "output_type": "execute_result",
          "data": {
            "text/plain": [
              "(60000, 28, 28)"
            ]
          },
          "metadata": {
            "tags": []
          },
          "execution_count": 3
        }
      ]
    },
    {
      "cell_type": "code",
      "metadata": {
        "id": "dBVgFGLlnvEN"
      },
      "source": [
        "img = X_train[20]"
      ],
      "execution_count": null,
      "outputs": []
    },
    {
      "cell_type": "code",
      "metadata": {
        "colab": {
          "base_uri": "https://localhost:8080/"
        },
        "id": "ruVfVh3-oECy",
        "outputId": "8aaa0da5-f3b1-4399-bb3f-1bea0b84c837"
      },
      "source": [
        "img.shape"
      ],
      "execution_count": null,
      "outputs": [
        {
          "output_type": "execute_result",
          "data": {
            "text/plain": [
              "(28, 28)"
            ]
          },
          "metadata": {
            "tags": []
          },
          "execution_count": 5
        }
      ]
    },
    {
      "cell_type": "code",
      "metadata": {
        "id": "o3SlUOIioFR7"
      },
      "source": [
        "import matplotlib.pyplot as plt"
      ],
      "execution_count": null,
      "outputs": []
    },
    {
      "cell_type": "code",
      "metadata": {
        "colab": {
          "base_uri": "https://localhost:8080/",
          "height": 282
        },
        "id": "ooAjTjEqoOyD",
        "outputId": "b5883d53-f198-4322-b5a6-500f92f269ab"
      },
      "source": [
        "plt.imshow(img)"
      ],
      "execution_count": null,
      "outputs": [
        {
          "output_type": "execute_result",
          "data": {
            "text/plain": [
              "<matplotlib.image.AxesImage at 0x7f3f6336a4d0>"
            ]
          },
          "metadata": {
            "tags": []
          },
          "execution_count": 7
        },
        {
          "output_type": "display_data",
          "data": {
            "image/png": "[encoded data removed]",
            "text/plain": [
              "<Figure size 432x288 with 1 Axes>"
            ]
          },
          "metadata": {
            "tags": [],
            "needs_background": "light"
          }
        }
      ]
    },
    {
      "cell_type": "code",
      "metadata": {
        "colab": {
          "base_uri": "https://localhost:8080/"
        },
        "id": "9CE-HxFuoSkI",
        "outputId": "4ee46bab-78d8-4797-b8b6-26ed778f78f8"
      },
      "source": [
        "y_train"
      ],
      "execution_count": null,
      "outputs": [
        {
          "output_type": "execute_result",
          "data": {
            "text/plain": [
              "array([5, 0, 4, ..., 5, 6, 8], dtype=uint8)"
            ]
          },
          "metadata": {
            "tags": []
          },
          "execution_count": 8
        }
      ]
    },
    {
      "cell_type": "code",
      "metadata": {
        "id": "RbdaLvF1qKBa"
      },
      "source": [
        ""
      ],
      "execution_count": null,
      "outputs": []
    },
    {
      "cell_type": "code",
      "metadata": {
        "id": "ftO5BFTvo8D-"
      },
      "source": [
        "from tensorflow.keras.utils import to_categorical"
      ],
      "execution_count": null,
      "outputs": []
    },
    {
      "cell_type": "code",
      "metadata": {
        "id": "aly0F0hTpX3n"
      },
      "source": [
        "y_train_hot = to_categorical(y_train, num_classes=10)"
      ],
      "execution_count": null,
      "outputs": []
    },
    {
      "cell_type": "code",
      "metadata": {
        "colab": {
          "base_uri": "https://localhost:8080/"
        },
        "id": "lk2C5s8Opfic",
        "outputId": "61103d00-5ccf-41f3-9297-821680ae4467"
      },
      "source": [
        "y_train[:10]"
      ],
      "execution_count": null,
      "outputs": [
        {
          "output_type": "execute_result",
          "data": {
            "text/plain": [
              "array([5, 0, 4, 1, 9, 2, 1, 3, 1, 4], dtype=uint8)"
            ]
          },
          "metadata": {
            "tags": []
          },
          "execution_count": 11
        }
      ]
    },
    {
      "cell_type": "code",
      "metadata": {
        "colab": {
          "base_uri": "https://localhost:8080/"
        },
        "id": "kibB6iQ6pimF",
        "outputId": "a1aa0a3f-6f8f-40bf-f16d-0f3e75692970"
      },
      "source": [
        "y_train_hot"
      ],
      "execution_count": null,
      "outputs": [
        {
          "output_type": "execute_result",
          "data": {
            "text/plain": [
              "array([[0., 0., 0., ..., 0., 0., 0.],\n",
              "       [1., 0., 0., ..., 0., 0., 0.],\n",
              "       [0., 0., 0., ..., 0., 0., 0.],\n",
              "       ...,\n",
              "       [0., 0., 0., ..., 0., 0., 0.],\n",
              "       [0., 0., 0., ..., 0., 0., 0.],\n",
              "       [0., 0., 0., ..., 0., 1., 0.]], dtype=float32)"
            ]
          },
          "metadata": {
            "tags": []
          },
          "execution_count": 12
        }
      ]
    },
    {
      "cell_type": "code",
      "metadata": {
        "id": "zXtciyFNpln6"
      },
      "source": [
        ""
      ],
      "execution_count": null,
      "outputs": []
    },
    {
      "cell_type": "code",
      "metadata": {
        "id": "LUri-xVBqNLW"
      },
      "source": [
        "from tensorflow.keras.models import Sequential\n",
        "from tensorflow.keras.layers import InputLayer, Dense, Reshape, Conv2D, MaxPooling2D, Flatten\n",
        "from tensorflow.keras.losses import categorical_crossentropy"
      ],
      "execution_count": null,
      "outputs": []
    },
    {
      "cell_type": "code",
      "metadata": {
        "id": "lXNvdvBoqaqk"
      },
      "source": [
        "model = Sequential()\n",
        "model.add(InputLayer(input_shape=(28, 28)))\n",
        "model.add(Reshape(target_shape=(28, 28, 1)))\n",
        "model.add(Conv2D(16, 3, padding=\"same\"))\n",
        "model.add(MaxPooling2D())\n",
        "model.add(Conv2D(32, 3, padding=\"same\"))\n",
        "model.add(MaxPooling2D())\n",
        "model.add(Flatten())\n",
        "model.add(Dense(400, activation=\"tanh\"))\n",
        "model.add(Dense(200, activation=\"tanh\"))\n",
        "model.add(Dense(100, activation=\"tanh\"))\n",
        "model.add(Dense(10, activation=\"softmax\"))"
      ],
      "execution_count": null,
      "outputs": []
    },
    {
      "cell_type": "code",
      "metadata": {
        "id": "nJOzFXs4rXGB"
      },
      "source": [
        "model.compile(optimizer=\"adam\", loss=\"categorical_crossentropy\", metrics=[\"accuracy\"])"
      ],
      "execution_count": null,
      "outputs": []
    },
    {
      "cell_type": "code",
      "metadata": {
        "colab": {
          "base_uri": "https://localhost:8080/"
        },
        "id": "W7oXX6iHrJwy",
        "outputId": "3c5134ff-708a-48a7-939a-83bf7dfd5a29"
      },
      "source": [
        "model.fit(X_train, y_train_hot, epochs=10, batch_size=1000)"
      ],
      "execution_count": null,
      "outputs": [
        {
          "output_type": "stream",
          "text": [
            "Epoch 1/10\n",
            "60/60 [==============================] - 1s 13ms/step - loss: 0.0403 - accuracy: 0.9873\n",
            "Epoch 2/10\n",
            "60/60 [==============================] - 1s 11ms/step - loss: 0.0372 - accuracy: 0.9881\n",
            "Epoch 3/10\n",
            "60/60 [==============================] - 1s 11ms/step - loss: 0.0397 - accuracy: 0.9868\n",
            "Epoch 4/10\n",
            "60/60 [==============================] - 1s 11ms/step - loss: 0.0353 - accuracy: 0.9883\n",
            "Epoch 5/10\n",
            "60/60 [==============================] - 1s 11ms/step - loss: 0.0311 - accuracy: 0.9899\n",
            "Epoch 6/10\n",
            "60/60 [==============================] - 1s 11ms/step - loss: 0.0312 - accuracy: 0.9899\n",
            "Epoch 7/10\n",
            "60/60 [==============================] - 1s 11ms/step - loss: 0.0274 - accuracy: 0.9910\n",
            "Epoch 8/10\n",
            "60/60 [==============================] - 1s 11ms/step - loss: 0.0257 - accuracy: 0.9914\n",
            "Epoch 9/10\n",
            "60/60 [==============================] - 1s 11ms/step - loss: 0.0267 - accuracy: 0.9914\n",
            "Epoch 10/10\n",
            "60/60 [==============================] - 1s 11ms/step - loss: 0.0282 - accuracy: 0.9906\n"
          ],
          "name": "stdout"
        },
        {
          "output_type": "execute_result",
          "data": {
            "text/plain": [
              "<tensorflow.python.keras.callbacks.History at 0x7f3f067ca650>"
            ]
          },
          "metadata": {
            "tags": []
          },
          "execution_count": 20
        }
      ]
    },
    {
      "cell_type": "code",
      "metadata": {
        "id": "vQqRA99N8G9_"
      },
      "source": [
        ""
      ],
      "execution_count": null,
      "outputs": []
    },
    {
      "cell_type": "code",
      "metadata": {
        "id": "NPV9SBDS8HTT"
      },
      "source": [
        "y_test_hot = to_categorical(y_test, num_classes=10)"
      ],
      "execution_count": null,
      "outputs": []
    },
    {
      "cell_type": "code",
      "metadata": {
        "colab": {
          "base_uri": "https://localhost:8080/"
        },
        "id": "dAxdR7l68KgE",
        "outputId": "9fa8dc39-5f18-4acf-ba6c-5534d55a3aa3"
      },
      "source": [
        "model.evaluate(X_test, y_test_hot, verbose=0)"
      ],
      "execution_count": null,
      "outputs": [
        {
          "output_type": "execute_result",
          "data": {
            "text/plain": [
              "[0.05191710218787193, 0.983299970626831]"
            ]
          },
          "metadata": {
            "tags": []
          },
          "execution_count": 23
        }
      ]
    },
    {
      "cell_type": "code",
      "metadata": {
        "id": "vHoAKqu6rVzf"
      },
      "source": [
        "img = X_test[560]"
      ],
      "execution_count": null,
      "outputs": []
    },
    {
      "cell_type": "code",
      "metadata": {
        "colab": {
          "base_uri": "https://localhost:8080/",
          "height": 282
        },
        "id": "9VpVx1U9tjG4",
        "outputId": "8cf56f6f-b74c-49cb-c524-812258dd9ee9"
      },
      "source": [
        "plt.imshow(img)"
      ],
      "execution_count": null,
      "outputs": [
        {
          "output_type": "execute_result",
          "data": {
            "text/plain": [
              "<matplotlib.image.AxesImage at 0x7f3f50162fd0>"
            ]
          },
          "metadata": {
            "tags": []
          },
          "execution_count": 25
        },
        {
          "output_type": "display_data",
          "data": {
            "image/png": "[encoded data removed]",
            "text/plain": [
              "<Figure size 432x288 with 1 Axes>"
            ]
          },
          "metadata": {
            "tags": [],
            "needs_background": "light"
          }
        }
      ]
    },
    {
      "cell_type": "code",
      "metadata": {
        "id": "DiMUPi8btqRL"
      },
      "source": [
        "import numpy as np"
      ],
      "execution_count": null,
      "outputs": []
    },
    {
      "cell_type": "code",
      "metadata": {
        "id": "8gHYZvpitlfl"
      },
      "source": [
        "output = model.predict(np.array([img]))"
      ],
      "execution_count": null,
      "outputs": []
    },
    {
      "cell_type": "code",
      "metadata": {
        "colab": {
          "base_uri": "https://localhost:8080/"
        },
        "id": "jiu6_JuztvVi",
        "outputId": "31e0271a-74e4-46e1-bfa6-6baaafba07f2"
      },
      "source": [
        "np.argmax(output, axis=1)"
      ],
      "execution_count": null,
      "outputs": [
        {
          "output_type": "execute_result",
          "data": {
            "text/plain": [
              "array([9])"
            ]
          },
          "metadata": {
            "tags": []
          },
          "execution_count": 28
        }
      ]
    },
    {
      "cell_type": "code",
      "metadata": {
        "colab": {
          "base_uri": "https://localhost:8080/"
        },
        "id": "SWrYd1dCt7UK",
        "outputId": "c93bdc62-a4ba-4344-c0ce-2abf0faf574c"
      },
      "source": [
        "model.save(\"mnist_model\")"
      ],
      "execution_count": null,
      "outputs": [
        {
          "output_type": "stream",
          "text": [
            "INFO:tensorflow:Assets written to: mnist_model/assets\n"
          ],
          "name": "stdout"
        }
      ]
    },
    {
      "cell_type": "code",
      "metadata": {
        "colab": {
          "base_uri": "https://localhost:8080/"
        },
        "id": "w5MGIeRCukei",
        "outputId": "21b6e15d-85dc-4543-d506-4f3146724527"
      },
      "source": [
        "!zip -r ./mnist_model.zip ./mnist_model/"
      ],
      "execution_count": null,
      "outputs": [
        {
          "output_type": "stream",
          "text": [
            "  adding: mnist_model/ (stored 0%)\n",
            "  adding: mnist_model/variables/ (stored 0%)\n",
            "  adding: mnist_model/variables/variables.data-00000-of-00001 (deflated 7%)\n",
            "  adding: mnist_model/variables/variables.index (deflated 66%)\n",
            "  adding: mnist_model/assets/ (stored 0%)\n",
            "  adding: mnist_model/keras_metadata.pb (deflated 91%)\n",
            "  adding: mnist_model/saved_model.pb (deflated 88%)\n"
          ],
          "name": "stdout"
        }
      ]
    },
    {
      "cell_type": "code",
      "metadata": {
        "id": "mz413WLsuvY0"
      },
      "source": [
        "import cv2"
      ],
      "execution_count": null,
      "outputs": []
    },
    {
      "cell_type": "code",
      "metadata": {
        "id": "ttLQdjiPvmOT",
        "colab": {
          "base_uri": "https://localhost:8080/"
        },
        "outputId": "72b46456-4c54-41fd-cb89-1c08d4d80472"
      },
      "source": [
        "cv2.imwrite(\"item.png\", img)"
      ],
      "execution_count": null,
      "outputs": [
        {
          "output_type": "execute_result",
          "data": {
            "text/plain": [
              "True"
            ]
          },
          "metadata": {
            "tags": []
          },
          "execution_count": 60
        }
      ]
    },
    {
      "cell_type": "code",
      "metadata": {
        "id": "le6Lqlm0vrhj"
      },
      "source": [
        ""
      ],
      "execution_count": null,
      "outputs": []
    }
  ]
}